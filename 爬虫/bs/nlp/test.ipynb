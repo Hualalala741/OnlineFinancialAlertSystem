{
 "cells": [
  {
   "cell_type": "code",
   "execution_count": 1,
   "metadata": {
    "collapsed": true
   },
   "outputs": [
    {
     "name": "stderr",
     "output_type": "stream",
     "text": [
      "C:\\Users\\86136\\Anaconda3\\lib\\site-packages\\pymysql\\_auth.py:8: CryptographyDeprecationWarning: Python 3.6 is no longer supported by the Python core team. Therefore, support for it is deprecated in cryptography. The next release of cryptography (40.0) will be the last to support Python 3.6.\n",
      "  from cryptography.hazmat.backends import default_backend\n"
     ]
    }
   ],
   "source": [
    "import pymysql\n",
    "import pandas as pd\n",
    "# 连接数据库\n",
    "conn = pymysql.connect(\n",
    "    host = \"localhost\",\n",
    "    port = 3306,\n",
    "    user = \"root\",\n",
    "    passwd = \"20010111\",\n",
    "    db = \"xlnews\"\n",
    ")"
   ]
  },
  {
   "cell_type": "code",
   "execution_count": 2,
   "outputs": [
    {
     "data": {
      "text/plain": "                                              article\n0   　　刚刚过去的春节假期，消费和旅游重现复苏。从投资角度来看，“红一月”也带动了市场的回温。　...\n1   　　据上证报，此前有传言称，iPhone14Pro系列全部版本自2月5日起将迎来700元优惠...\n2   　　转自：上海证券报　　e公司讯，此前有传言称，iPhone 14 Pro系列全部版本自2月...\n3   　　转自：证券时报·e公司　　e公司讯，中信证券(21.360, -0.07, -0.33%...\n4   　　转自：证券时报·e公司　　e公司讯，中信证券(21.360, -0.07, -0.33%...\n5   　　中信证券(21.360, -0.07, -0.33%)研报认为，据测算，未来三年公共充电...\n6   　　转自：证券时报·e公司　　e公司讯，中金公司(40.900, -0.10, -0.24%...\n7   　　2月5日，乘联会秘书长崔东树在其微信公众号发文称，12月份，受疫情管控放开和政策到期等利...\n8   　　转自：证券时报·e公司　　e公司讯，乘联会秘书长崔东树发文称，1-12月汽车行业收入92...\n9   　　据俄罗斯媒体报道，针对欧盟对俄罗斯能源的制裁措施，匈牙利能源部当地时间2月4日对此警告称...\n10  　　转自：证券时报·e公司　　e公司讯，华数传媒(7.880, 0.10, 1.29%)（0...\n11  　　当地时间2月5日，叙利亚中央银行两个月内第二次大幅调整叙镑对美元汇率，由此前的4522叙...\n12  　　据印度《经济时报》2月5日报道，塔塔汽车乘用车业务负责人表示，该公司正寻求在未来12-1...\n13  西班牙《阿贝赛报》网站4日发表一篇记者伊莎贝尔·米兰达的报道，全文摘编如下：欧洲的禽流感疫情...\n14  　　转自：证券时报·e公司　　e公司讯，汇金通(11.110, -0.03, -0.27%)...\n15  　　2月5日消息，海通证券(9.360, -0.10, -1.06%)策略团队发文成，借鉴上...\n16  　　彭博2月5日消息，据印度媒体ET Now报道，渣打银行已停止接受阿达尼集团的债券作为保证...\n17  　　来源： IT之家作者：远洋　　2 月 5 日消息，在 2022 年创造就业岗位方面，特斯...\n18  　　转自：人民日报　　制图：张芳曼　　本报北京2月4日电  （记者孙秀艳）记者从日前召开的全...\n19  　　据韩国《亚洲日报》，韩国特许厅（专利局）2月5日消息，向韩国、美国、日本、中国、欧盟等知...\n20  　　新京报讯 据国防部发布官微消息，美方动用武力袭击我民用无人飞艇，这是明显过度反应。我们对...\n21  　　据台湾《经济日报》报道，苹果镜头供应商大立光2月5日公布今年1月营收为新台币32.6亿元...\n22                                          责任编辑：卫晓丹 \n23  　　据福克斯新闻，美国华特迪士尼(110.71, -2.50, -2.21%)世界度假区工会...\n24  道明证券预计瑞典央行将在下周四加息50个基点，与市场定价一致，但高于央行利率路径暗示的28个...\n25  　　转自：央视财经　　近期，在全国多地，家乐福超市被曝购物卡消费受限，部分货架出现空置。4日...\n26  　　 格隆汇2月5日丨雪榕生物接受机构调研时表示，从往年经营情况来看，第一季度为销售旺季；随...\n27  　　据韩国《亚洲日报》，韩国统计厅国家统计门户网站（KOSIS）2月5日公布的信息显示，今年...\n28  　　转自：证券时报·e公司　　e公司讯，香飘飘(18.950, 1.02, 5.69%)（6...\n29  　　路透社消息，当地时间2月4日，美国太空探索技术公司（SpaceX）创始人兼首席执行官埃隆...\n30  　　来源： IT之家作者：远洋　　2 月 5 日消息，马斯克发今日推文称：“在几个月前订购了...",
      "text/html": "<div>\n<style scoped>\n    .dataframe tbody tr th:only-of-type {\n        vertical-align: middle;\n    }\n\n    .dataframe tbody tr th {\n        vertical-align: top;\n    }\n\n    .dataframe thead th {\n        text-align: right;\n    }\n</style>\n<table border=\"1\" class=\"dataframe\">\n  <thead>\n    <tr style=\"text-align: right;\">\n      <th></th>\n      <th>article</th>\n    </tr>\n  </thead>\n  <tbody>\n    <tr>\n      <th>0</th>\n      <td>刚刚过去的春节假期，消费和旅游重现复苏。从投资角度来看，“红一月”也带动了市场的回温。　...</td>\n    </tr>\n    <tr>\n      <th>1</th>\n      <td>据上证报，此前有传言称，iPhone14Pro系列全部版本自2月5日起将迎来700元优惠...</td>\n    </tr>\n    <tr>\n      <th>2</th>\n      <td>转自：上海证券报　　e公司讯，此前有传言称，iPhone 14 Pro系列全部版本自2月...</td>\n    </tr>\n    <tr>\n      <th>3</th>\n      <td>转自：证券时报·e公司　　e公司讯，中信证券(21.360, -0.07, -0.33%...</td>\n    </tr>\n    <tr>\n      <th>4</th>\n      <td>转自：证券时报·e公司　　e公司讯，中信证券(21.360, -0.07, -0.33%...</td>\n    </tr>\n    <tr>\n      <th>5</th>\n      <td>中信证券(21.360, -0.07, -0.33%)研报认为，据测算，未来三年公共充电...</td>\n    </tr>\n    <tr>\n      <th>6</th>\n      <td>转自：证券时报·e公司　　e公司讯，中金公司(40.900, -0.10, -0.24%...</td>\n    </tr>\n    <tr>\n      <th>7</th>\n      <td>2月5日，乘联会秘书长崔东树在其微信公众号发文称，12月份，受疫情管控放开和政策到期等利...</td>\n    </tr>\n    <tr>\n      <th>8</th>\n      <td>转自：证券时报·e公司　　e公司讯，乘联会秘书长崔东树发文称，1-12月汽车行业收入92...</td>\n    </tr>\n    <tr>\n      <th>9</th>\n      <td>据俄罗斯媒体报道，针对欧盟对俄罗斯能源的制裁措施，匈牙利能源部当地时间2月4日对此警告称...</td>\n    </tr>\n    <tr>\n      <th>10</th>\n      <td>转自：证券时报·e公司　　e公司讯，华数传媒(7.880, 0.10, 1.29%)（0...</td>\n    </tr>\n    <tr>\n      <th>11</th>\n      <td>当地时间2月5日，叙利亚中央银行两个月内第二次大幅调整叙镑对美元汇率，由此前的4522叙...</td>\n    </tr>\n    <tr>\n      <th>12</th>\n      <td>据印度《经济时报》2月5日报道，塔塔汽车乘用车业务负责人表示，该公司正寻求在未来12-1...</td>\n    </tr>\n    <tr>\n      <th>13</th>\n      <td>西班牙《阿贝赛报》网站4日发表一篇记者伊莎贝尔·米兰达的报道，全文摘编如下：欧洲的禽流感疫情...</td>\n    </tr>\n    <tr>\n      <th>14</th>\n      <td>转自：证券时报·e公司　　e公司讯，汇金通(11.110, -0.03, -0.27%)...</td>\n    </tr>\n    <tr>\n      <th>15</th>\n      <td>2月5日消息，海通证券(9.360, -0.10, -1.06%)策略团队发文成，借鉴上...</td>\n    </tr>\n    <tr>\n      <th>16</th>\n      <td>彭博2月5日消息，据印度媒体ET Now报道，渣打银行已停止接受阿达尼集团的债券作为保证...</td>\n    </tr>\n    <tr>\n      <th>17</th>\n      <td>来源： IT之家作者：远洋　　2 月 5 日消息，在 2022 年创造就业岗位方面，特斯...</td>\n    </tr>\n    <tr>\n      <th>18</th>\n      <td>转自：人民日报　　制图：张芳曼　　本报北京2月4日电  （记者孙秀艳）记者从日前召开的全...</td>\n    </tr>\n    <tr>\n      <th>19</th>\n      <td>据韩国《亚洲日报》，韩国特许厅（专利局）2月5日消息，向韩国、美国、日本、中国、欧盟等知...</td>\n    </tr>\n    <tr>\n      <th>20</th>\n      <td>新京报讯 据国防部发布官微消息，美方动用武力袭击我民用无人飞艇，这是明显过度反应。我们对...</td>\n    </tr>\n    <tr>\n      <th>21</th>\n      <td>据台湾《经济日报》报道，苹果镜头供应商大立光2月5日公布今年1月营收为新台币32.6亿元...</td>\n    </tr>\n    <tr>\n      <th>22</th>\n      <td>责任编辑：卫晓丹</td>\n    </tr>\n    <tr>\n      <th>23</th>\n      <td>据福克斯新闻，美国华特迪士尼(110.71, -2.50, -2.21%)世界度假区工会...</td>\n    </tr>\n    <tr>\n      <th>24</th>\n      <td>道明证券预计瑞典央行将在下周四加息50个基点，与市场定价一致，但高于央行利率路径暗示的28个...</td>\n    </tr>\n    <tr>\n      <th>25</th>\n      <td>转自：央视财经　　近期，在全国多地，家乐福超市被曝购物卡消费受限，部分货架出现空置。4日...</td>\n    </tr>\n    <tr>\n      <th>26</th>\n      <td>格隆汇2月5日丨雪榕生物接受机构调研时表示，从往年经营情况来看，第一季度为销售旺季；随...</td>\n    </tr>\n    <tr>\n      <th>27</th>\n      <td>据韩国《亚洲日报》，韩国统计厅国家统计门户网站（KOSIS）2月5日公布的信息显示，今年...</td>\n    </tr>\n    <tr>\n      <th>28</th>\n      <td>转自：证券时报·e公司　　e公司讯，香飘飘(18.950, 1.02, 5.69%)（6...</td>\n    </tr>\n    <tr>\n      <th>29</th>\n      <td>路透社消息，当地时间2月4日，美国太空探索技术公司（SpaceX）创始人兼首席执行官埃隆...</td>\n    </tr>\n    <tr>\n      <th>30</th>\n      <td>来源： IT之家作者：远洋　　2 月 5 日消息，马斯克发今日推文称：“在几个月前订购了...</td>\n    </tr>\n  </tbody>\n</table>\n</div>"
     },
     "execution_count": 2,
     "metadata": {},
     "output_type": "execute_result"
    }
   ],
   "source": [
    "cur = conn.cursor()\n",
    "\n",
    "#查询需要字段\n",
    "cur.execute(\"select article from news\")\n",
    "\n",
    "#获取数据\n",
    "result = cur.fetchall()\n",
    "\n",
    "df = pd.DataFrame(list(result),columns=[\"article\"])\n",
    "df"
   ],
   "metadata": {
    "collapsed": false,
    "pycharm": {
     "name": "#%%\n"
    }
   }
  },
  {
   "cell_type": "code",
   "execution_count": 4,
   "outputs": [],
   "source": [
    "from aip import AipNlp\n",
    "APP_ID = '30235551'\n",
    "API_KEY = '2KL5umh9euoKiHqdVegIM2K1'\n",
    "SECRET_KEY = 'eVU4iCgMhUYFr6jxOpugTdAXRumscwyr'\n",
    "client = AipNlp(APP_ID, API_KEY, SECRET_KEY)"
   ],
   "metadata": {
    "collapsed": false,
    "pycharm": {
     "name": "#%%\n"
    }
   }
  },
  {
   "cell_type": "code",
   "execution_count": 9,
   "outputs": [
    {
     "data": {
      "text/plain": "{'text': '\\u3000\\u3000新京报讯 据国防部发布官微消息，美方动用武力袭击我民用无人飞艇，这是明显过度反应。我们对美方这一做法表示严正抗议，保留使用必要手段处置类似情况的权利。\\u3000\\u3000编辑 陈媛媛责任编辑：卫晓丹',\n 'items': [{'confidence': 0.994737,\n   'negative_prob': 0.997632,\n   'positive_prob': 0.00236839,\n   'sentiment': 0}],\n 'log_id': 1622871060122869294}"
     },
     "execution_count": 9,
     "metadata": {},
     "output_type": "execute_result"
    }
   ],
   "source": [
    "text = df[\"article\"][20]\n",
    "client.sentimentClassify(text)"
   ],
   "metadata": {
    "collapsed": false,
    "pycharm": {
     "name": "#%%\n"
    }
   }
  },
  {
   "cell_type": "code",
   "execution_count": null,
   "outputs": [],
   "source": [],
   "metadata": {
    "collapsed": false,
    "pycharm": {
     "name": "#%%\n"
    }
   }
  },
  {
   "cell_type": "code",
   "execution_count": null,
   "outputs": [],
   "source": [],
   "metadata": {
    "collapsed": false,
    "pycharm": {
     "name": "#%%\n"
    }
   }
  },
  {
   "cell_type": "code",
   "execution_count": null,
   "outputs": [],
   "source": [],
   "metadata": {
    "collapsed": false,
    "pycharm": {
     "name": "#%%\n"
    }
   }
  },
  {
   "cell_type": "code",
   "execution_count": null,
   "outputs": [],
   "source": [],
   "metadata": {
    "collapsed": false,
    "pycharm": {
     "name": "#%%\n"
    }
   }
  },
  {
   "cell_type": "code",
   "execution_count": null,
   "outputs": [],
   "source": [],
   "metadata": {
    "collapsed": false,
    "pycharm": {
     "name": "#%%\n"
    }
   }
  }
 ],
 "metadata": {
  "kernelspec": {
   "display_name": "Python 3",
   "language": "python",
   "name": "python3"
  },
  "language_info": {
   "codemirror_mode": {
    "name": "ipython",
    "version": 2
   },
   "file_extension": ".py",
   "mimetype": "text/x-python",
   "name": "python",
   "nbconvert_exporter": "python",
   "pygments_lexer": "ipython2",
   "version": "2.7.6"
  }
 },
 "nbformat": 4,
 "nbformat_minor": 0
}