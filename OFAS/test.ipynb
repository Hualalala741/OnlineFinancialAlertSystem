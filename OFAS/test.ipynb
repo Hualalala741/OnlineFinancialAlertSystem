{
 "cells": [
  {
   "cell_type": "code",
   "execution_count": 1,
   "metadata": {
    "collapsed": true
   },
   "outputs": [
    {
     "name": "stdout",
     "output_type": "stream",
     "text": [
      "                                                link  \\\n",
      "0  https://finance.sina.com.cn/2023-04-07/doc-imy...   \n",
      "1  https://finance.sina.com.cn/2023-04-07/doc-imy...   \n",
      "2  https://finance.sina.com.cn/2023-04-07/doc-imy...   \n",
      "3  https://finance.sina.com.cn/2023-04-07/doc-imy...   \n",
      "4  https://finance.sina.com.cn/2023-04-08/doc-imy...   \n",
      "\n",
      "                                         title                 date source  \\\n",
      "0                  四川德阳警方通报网传中国电科加班事件：散布谣言者被行拘  2023-04-07 20:46:36   澎湃新闻   \n",
      "1                       中华人民共和国和法兰西共和国联合声明（全文）  2023-04-07 21:02:25    新华社   \n",
      "2          中电科员工“怒怼领导”？刚刚，警方通报：聊天记录系捏造，已拘留陈某龙！  2023-04-07 21:18:15   市场资讯   \n",
      "3  国常会：要想方设法稳住对发达经济体出口，引导企业深入开拓发展中国家市场和东盟等区域市场  2023-04-07 20:21:00    央视网   \n",
      "4      刚刚！华为云AI首席科学家发声：这是人工智能新爆点！还介绍“华为盘古”最新进展  2023-04-08 15:20:03   市场资讯   \n",
      "\n",
      "                                             article  emo  \n",
      "0  　　据“平安德阳经开区”微博通报，经初查，陈某龙目前居住在德阳经开区，系网上发布不实信息者，...  未处理  \n",
      "1  　　新华社北京4月7日电　　中华人民共和国和法兰西共和国联合声明　　应中华人民共和国主席习近...  未处理  \n",
      "2  　　来源：证券时报　　7日晚间，警方通报网传中电科加班事件调查结果，通报全文如下：　　据人民...  未处理  \n",
      "3  　　国务院总理李强4月7日主持召开国务院常务会议，研究推动外贸稳规模优结构的政策措施，审议通...  未处理  \n",
      "4  　　来源：e公司　　4月8日，人工智能大模型技术高峰论坛在杭州萧山开幕。　　证券时报·e公司...  未处理  \n"
     ]
    }
   ],
   "source": [
    "import pymysql\n",
    "import pandas as pd\n",
    "conn = pymysql.connect(host='localhost',\n",
    "                       port=3306,\n",
    "                       user='root',\n",
    "                       password='20010111',\n",
    "                       db='xlnews',\n",
    "                       charset='utf8',\n",
    "                       use_unicode=True)\n",
    "\n",
    "\n",
    "sql = 'select * from warehouse_news'\n",
    "df = pd.read_sql(sql, con=conn)\n",
    "print(df.head())\n",
    "\n",
    "df.to_csv(\"data.csv\")\n",
    "conn.close()"
   ]
  },
  {
   "cell_type": "code",
   "execution_count": 10,
   "outputs": [
    {
     "name": "stderr",
     "output_type": "stream",
     "text": [
      "Some weights of the model checkpoint at D:\\86136\\新建文件夹\\WeChat Files\\guoyantong1397\\FileStorage\\File\\2023-04\\Archive\\xlNews\\bert\\bert-base-chinese were not used when initializing BertModel: ['cls.seq_relationship.weight', 'cls.predictions.decoder.weight', 'cls.seq_relationship.bias', 'cls.predictions.transform.dense.bias', 'cls.predictions.bias', 'cls.predictions.transform.LayerNorm.bias', 'cls.predictions.transform.dense.weight', 'cls.predictions.transform.LayerNorm.weight']\n",
      "- This IS expected if you are initializing BertModel from the checkpoint of a model trained on another task or with another architecture (e.g. initializing a BertForSequenceClassification model from a BertForPreTraining model).\n",
      "- This IS NOT expected if you are initializing BertModel from the checkpoint of a model that you expect to be exactly identical (initializing a BertForSequenceClassification model from a BertForSequenceClassification model).\n"
     ]
    }
   ],
   "source": [
    "#定义下游任务模型\n",
    "from transformers import BertModel\n",
    "import torch\n",
    "\n",
    "#加载预训练模型\n",
    "pretrained = BertModel.from_pretrained(r'D:\\86136\\新建文件夹\\WeChat Files\\guoyantong1397\\FileStorage\\File\\2023-04\\Archive\\xlNews\\bert\\bert-base-chinese')\n",
    "pretrained = pretrained\n",
    "class Model(torch.nn.Module):\n",
    "    def __init__(self):\n",
    "        super().__init__()\n",
    "        self.fc = torch.nn.Linear(768, 3)  # 单层网络模型，只包括了一个fc的神经网络 3是分为三类\n",
    "\n",
    "    def forward(self, input_ids, attention_mask, token_type_ids):\n",
    "        with torch.no_grad():\n",
    "            out = pretrained(input_ids=input_ids,   # 先拿预训练模型来做一个计算，抽取数据当中的特征\n",
    "                       attention_mask=attention_mask,\n",
    "                       token_type_ids=token_type_ids)\n",
    "\n",
    "        # 把抽取出来的特征放到全连接网络中运算，且特征的结果只需要第0个词的特征(跟bert模型的设计方式有关。对句子的情感分类，只需要拿特征中的第0个词来进行分类就可以了)\n",
    "        out = self.fc(out.last_hidden_state[:, 0])   # torch.Size([16, 768])\n",
    "\n",
    "        # 将softmax函数应用于一个n维输入张量，对其进行缩放，使n维输出张量的元素位于[0,1]范围内，总和为1\n",
    "        out = out.softmax(dim=1)\n",
    "\n",
    "        return out"
   ],
   "metadata": {
    "collapsed": false,
    "pycharm": {
     "name": "#%%\n"
    }
   }
  },
  {
   "cell_type": "code",
   "execution_count": 1,
   "outputs": [],
   "source": [
    "import torch._utils\n",
    "try:\n",
    "    torch._utils._rebuild_tensor_v2\n",
    "except AttributeError:\n",
    "    def _rebuild_tensor_v2(storage, storage_offset, size, stride, requires_grad, backward_hooks):\n",
    "        tensor = torch._utils._rebuild_tensor(storage, storage_offset, size, stride)\n",
    "        tensor.requires_grad = requires_grad\n",
    "        tensor._backward_hooks = backward_hooks\n",
    "        return tensor\n",
    "    torch._utils._rebuild_tensor_v2 = _rebuild_tensor_v2"
   ],
   "metadata": {
    "collapsed": false,
    "pycharm": {
     "name": "#%%\n"
    }
   }
  },
  {
   "cell_type": "code",
   "execution_count": 9,
   "outputs": [],
   "source": [
    "from transformers import BertTokenizer\n",
    "\n",
    "\n",
    "#加载字典和分词工具，即tokenizer\n",
    "\n",
    "token = BertTokenizer.from_pretrained('bert-base-chinese')"
   ],
   "metadata": {
    "collapsed": false,
    "pycharm": {
     "name": "#%%\n"
    }
   }
  },
  {
   "cell_type": "code",
   "execution_count": 10,
   "outputs": [
    {
     "data": {
      "text/plain": "'1.10.2+cpu'"
     },
     "execution_count": 10,
     "metadata": {},
     "output_type": "execute_result"
    }
   ],
   "source": [
    "torch.__version__"
   ],
   "metadata": {
    "collapsed": false,
    "pycharm": {
     "name": "#%%\n"
    }
   }
  },
  {
   "cell_type": "code",
   "execution_count": 24,
   "outputs": [],
   "source": [
    "import numpy as np\n",
    "import random\n",
    "def set_seed(seed):\n",
    "    \"\"\"for reproducibility\n",
    "    :param seed:\n",
    "    :return:\n",
    "    \"\"\"\n",
    "    np.random.seed(seed)\n",
    "    random.seed(seed)\n",
    "\n",
    "    torch.manual_seed(seed)\n",
    "    if torch.cuda.is_available():\n",
    "        torch.cuda.manual_seed(seed)\n",
    "        torch.cuda.manual_seed_all(seed)\n",
    "\n",
    "    torch.backends.cudnn.enabled = True\n",
    "    torch.backends.cudnn.benchmark = False\n",
    "    torch.backends.cudnn.deterministic = True"
   ],
   "metadata": {
    "collapsed": false,
    "pycharm": {
     "name": "#%%\n"
    }
   }
  },
  {
   "cell_type": "code",
   "execution_count": 29,
   "outputs": [
    {
     "name": "stderr",
     "output_type": "stream",
     "text": [
      "Keyword arguments {'truncag': 'max_length', 'max_letion': True, 'paddinngth': 'max_length'} not recognized.\n"
     ]
    },
    {
     "name": "stdout",
     "output_type": "stream",
     "text": [
      "tensor([1])\n"
     ]
    }
   ],
   "source": [
    "\n",
    "\n",
    "import torch\n",
    "\n",
    "set_seed(1)\n",
    " # 要跟预训练模型相匹配\n",
    "the_model = Model()\n",
    "m_state_dict = torch.load(r\"D:\\86136\\新建文件夹\\WeChat Files\\guoyantong1397\\FileStorage\\File\\2023-04\\Archive\\xlNews\\bert\\model.pt\",map_location=torch.device('cpu'))\n",
    "the_model.load_state_dict(m_state_dict)\n",
    "\n",
    "\n",
    "res = token.encode_plus(\"\",\n",
    "                               truncag='max_length',   # 一律补0到max_length长度\n",
    "                               max_letion=True,   # 当句子长度大于max_length时，截断\n",
    "                               paddinngth='max_length',\n",
    "                        max_length=512,\n",
    "                                # model_max_length=500,\n",
    "                               return_tensors='pt',   # 返回pytorch类型的tensor\n",
    "                               return_length=True)   # 返回length，标识长度\n",
    "the_model.eval()\n",
    "\n",
    "with torch.no_grad():\n",
    "    out = the_model(input_ids=res.input_ids,\n",
    "                attention_mask=res.attention_mask,\n",
    "                token_type_ids=res.token_type_ids)\n",
    "\n",
    "    out = out.argmax(dim=1)\n",
    "    print(out)"
   ],
   "metadata": {
    "collapsed": false,
    "pycharm": {
     "name": "#%%\n"
    }
   }
  },
  {
   "cell_type": "code",
   "execution_count": 32,
   "outputs": [],
   "source": [
    "def pred(text):\n",
    "    res = token.encode_plus(text,\n",
    "                               truncag='max_length',   # 一律补0到max_length长度\n",
    "                               max_letion=True,   # 当句子长度大于max_length时，截断\n",
    "                               paddinngth='max_length',\n",
    "                                max_length=500,\n",
    "                                # model_max_length=500,\n",
    "                               return_tensors='pt',   # 返回pytorch类型的tensor\n",
    "                               return_length=True)   # 返回length，标识长度\n",
    "    the_model.eval()\n",
    "\n",
    "    with torch.no_grad():\n",
    "        out = the_model(input_ids=res.input_ids,\n",
    "                    attention_mask=res.attention_mask,\n",
    "                    token_type_ids=res.token_type_ids)\n",
    "\n",
    "        out = out.argmax(dim=1)\n",
    "        return out\n"
   ],
   "metadata": {
    "collapsed": false,
    "pycharm": {
     "name": "#%%\n"
    }
   }
  },
  {
   "cell_type": "code",
   "execution_count": 57,
   "outputs": [],
   "source": [
    "def res(out):\n",
    "    if out==0:\n",
    "        return \"消极\"\n",
    "    elif out==1:\n",
    "        return \"中立\"\n",
    "    else:\n",
    "        return \"积极\"\n"
   ],
   "metadata": {
    "collapsed": false,
    "pycharm": {
     "name": "#%%\n"
    }
   }
  },
  {
   "cell_type": "code",
   "execution_count": 58,
   "outputs": [
    {
     "name": "stderr",
     "output_type": "stream",
     "text": [
      "Keyword arguments {'truncag': 'max_length', 'max_letion': True, 'paddinngth': 'max_length'} not recognized.\n"
     ]
    },
    {
     "name": "stdout",
     "output_type": "stream",
     "text": [
      "中立\n"
     ]
    }
   ],
   "source": [
    "text='啊啦啦啦啦啦啦啦啦啦啦啦啦'\n",
    "out=pred(text)\n",
    "print(res(out))\n"
   ],
   "metadata": {
    "collapsed": false,
    "pycharm": {
     "name": "#%%\n"
    }
   }
  },
  {
   "cell_type": "code",
   "execution_count": 33,
   "outputs": [
    {
     "data": {
      "text/plain": "                                                   ocr  label\n0    　　据“平安德阳经开区”微博通报，经初查，陈某龙目前居住在德阳经开区，系网上发布不实信息者，...      0\n1    　　新华社北京4月7日电　　中华人民共和国和法兰西共和国联合声明　　应中华人民共和国主席习近...      0\n2    　　来源：证券时报　　7日晚间，警方通报网传中电科加班事件调查结果，通报全文如下：　　据人民...      0\n3    　　国务院总理李强4月7日主持召开国务院常务会议，研究推动外贸稳规模优结构的政策措施，审议通...      0\n4    　　来源：e公司　　4月8日，人工智能大模型技术高峰论坛在杭州萧山开幕。　　证券时报·e公司...      0\n..                                                 ...    ...\n303  　　瑞士检察官周日对瑞银集团收购瑞士信贷一事展开调查。　　该国联邦检察官正在调查瑞士信贷和瑞...      0\n304  　　来源：国际金融报　　总裁王青山被“叫出会场”未归？浙商证券称，总裁目前在休假，其他事情暂...      0\n305  　　转自：中国证券报　　日前，保险业首只产权类Pre-REITs专题基金成功签约，规模约50...      0\n306  　　转自：中国证券报　　塔牌集团4月7日晚间发布2023年一季度业绩预告。2023年一季度，...      0\n307  　　作为曾经的“巨型独角兽”，网约车公司Uber的一举一动也还是市场关注的焦点。最新消息指出...      0\n\n[305 rows x 2 columns]",
      "text/html": "<div>\n<style scoped>\n    .dataframe tbody tr th:only-of-type {\n        vertical-align: middle;\n    }\n\n    .dataframe tbody tr th {\n        vertical-align: top;\n    }\n\n    .dataframe thead th {\n        text-align: right;\n    }\n</style>\n<table border=\"1\" class=\"dataframe\">\n  <thead>\n    <tr style=\"text-align: right;\">\n      <th></th>\n      <th>ocr</th>\n      <th>label</th>\n    </tr>\n  </thead>\n  <tbody>\n    <tr>\n      <th>0</th>\n      <td>据“平安德阳经开区”微博通报，经初查，陈某龙目前居住在德阳经开区，系网上发布不实信息者，...</td>\n      <td>0</td>\n    </tr>\n    <tr>\n      <th>1</th>\n      <td>新华社北京4月7日电　　中华人民共和国和法兰西共和国联合声明　　应中华人民共和国主席习近...</td>\n      <td>0</td>\n    </tr>\n    <tr>\n      <th>2</th>\n      <td>来源：证券时报　　7日晚间，警方通报网传中电科加班事件调查结果，通报全文如下：　　据人民...</td>\n      <td>0</td>\n    </tr>\n    <tr>\n      <th>3</th>\n      <td>国务院总理李强4月7日主持召开国务院常务会议，研究推动外贸稳规模优结构的政策措施，审议通...</td>\n      <td>0</td>\n    </tr>\n    <tr>\n      <th>4</th>\n      <td>来源：e公司　　4月8日，人工智能大模型技术高峰论坛在杭州萧山开幕。　　证券时报·e公司...</td>\n      <td>0</td>\n    </tr>\n    <tr>\n      <th>...</th>\n      <td>...</td>\n      <td>...</td>\n    </tr>\n    <tr>\n      <th>303</th>\n      <td>瑞士检察官周日对瑞银集团收购瑞士信贷一事展开调查。　　该国联邦检察官正在调查瑞士信贷和瑞...</td>\n      <td>0</td>\n    </tr>\n    <tr>\n      <th>304</th>\n      <td>来源：国际金融报　　总裁王青山被“叫出会场”未归？浙商证券称，总裁目前在休假，其他事情暂...</td>\n      <td>0</td>\n    </tr>\n    <tr>\n      <th>305</th>\n      <td>转自：中国证券报　　日前，保险业首只产权类Pre-REITs专题基金成功签约，规模约50...</td>\n      <td>0</td>\n    </tr>\n    <tr>\n      <th>306</th>\n      <td>转自：中国证券报　　塔牌集团4月7日晚间发布2023年一季度业绩预告。2023年一季度，...</td>\n      <td>0</td>\n    </tr>\n    <tr>\n      <th>307</th>\n      <td>作为曾经的“巨型独角兽”，网约车公司Uber的一举一动也还是市场关注的焦点。最新消息指出...</td>\n      <td>0</td>\n    </tr>\n  </tbody>\n</table>\n<p>305 rows × 2 columns</p>\n</div>"
     },
     "execution_count": 33,
     "metadata": {},
     "output_type": "execute_result"
    }
   ],
   "source": [
    "import pandas as pd\n",
    "df_news=pd.read_csv(r\"D:\\86136\\新建文件夹\\WeChat Files\\guoyantong1397\\FileStorage\\File\\2023-04\\Archive\\data.csv\").iloc[:,5:7]\n",
    "df_news.columns=['ocr','label']\n",
    "df_news.label = 0\n",
    "df_news.dropna(axis=0,inplace=True)\n",
    "df_news.isnull().sum()\n",
    "df_news\n"
   ],
   "metadata": {
    "collapsed": false,
    "pycharm": {
     "name": "#%%\n"
    }
   }
  },
  {
   "cell_type": "code",
   "execution_count": 39,
   "outputs": [],
   "source": [
    "from tqdm.auto import tqdm\n"
   ],
   "metadata": {
    "collapsed": false,
    "pycharm": {
     "name": "#%%\n"
    }
   }
  },
  {
   "cell_type": "code",
   "execution_count": 54,
   "outputs": [
    {
     "data": {
      "text/plain": "  0%|          | 0/305 [00:00<?, ?it/s]",
      "application/vnd.jupyter.widget-view+json": {
       "version_major": 2,
       "version_minor": 0,
       "model_id": "7cba450440f94380b45fcceec6ce2e6b"
      }
     },
     "metadata": {},
     "output_type": "display_data"
    },
    {
     "name": "stderr",
     "output_type": "stream",
     "text": [
      "Keyword arguments {'truncag': 'max_length', 'max_letion': True, 'paddinngth': 'max_length'} not recognized.\n",
      "C:\\Users\\86136\\Anaconda3\\envs\\DjangoPath\\lib\\site-packages\\pandas\\core\\indexing.py:670: SettingWithCopyWarning: \n",
      "A value is trying to be set on a copy of a slice from a DataFrame\n",
      "\n",
      "See the caveats in the documentation: https://pandas.pydata.org/pandas-docs/stable/user_guide/indexing.html#returning-a-view-versus-a-copy\n",
      "  iloc._setitem_with_indexer(indexer, value)\n",
      "Keyword arguments {'truncag': 'max_length', 'max_letion': True, 'paddinngth': 'max_length'} not recognized.\n",
      "Keyword arguments {'truncag': 'max_length', 'max_letion': True, 'paddinngth': 'max_length'} not recognized.\n",
      "Keyword arguments {'truncag': 'max_length', 'max_letion': True, 'paddinngth': 'max_length'} not recognized.\n",
      "Keyword arguments {'truncag': 'max_length', 'max_letion': True, 'paddinngth': 'max_length'} not recognized.\n",
      "Keyword arguments {'truncag': 'max_length', 'max_letion': True, 'paddinngth': 'max_length'} not recognized.\n",
      "Keyword arguments {'truncag': 'max_length', 'max_letion': True, 'paddinngth': 'max_length'} not recognized.\n",
      "Keyword arguments {'truncag': 'max_length', 'max_letion': True, 'paddinngth': 'max_length'} not recognized.\n",
      "Keyword arguments {'truncag': 'max_length', 'max_letion': True, 'paddinngth': 'max_length'} not recognized.\n",
      "Keyword arguments {'truncag': 'max_length', 'max_letion': True, 'paddinngth': 'max_length'} not recognized.\n",
      "Keyword arguments {'truncag': 'max_length', 'max_letion': True, 'paddinngth': 'max_length'} not recognized.\n",
      "Keyword arguments {'truncag': 'max_length', 'max_letion': True, 'paddinngth': 'max_length'} not recognized.\n",
      "Keyword arguments {'truncag': 'max_length', 'max_letion': True, 'paddinngth': 'max_length'} not recognized.\n",
      "Keyword arguments {'truncag': 'max_length', 'max_letion': True, 'paddinngth': 'max_length'} not recognized.\n",
      "Keyword arguments {'truncag': 'max_length', 'max_letion': True, 'paddinngth': 'max_length'} not recognized.\n",
      "Keyword arguments {'truncag': 'max_length', 'max_letion': True, 'paddinngth': 'max_length'} not recognized.\n",
      "Keyword arguments {'truncag': 'max_length', 'max_letion': True, 'paddinngth': 'max_length'} not recognized.\n",
      "Keyword arguments {'truncag': 'max_length', 'max_letion': True, 'paddinngth': 'max_length'} not recognized.\n",
      "Keyword arguments {'truncag': 'max_length', 'max_letion': True, 'paddinngth': 'max_length'} not recognized.\n",
      "Keyword arguments {'truncag': 'max_length', 'max_letion': True, 'paddinngth': 'max_length'} not recognized.\n",
      "Keyword arguments {'truncag': 'max_length', 'max_letion': True, 'paddinngth': 'max_length'} not recognized.\n",
      "Keyword arguments {'truncag': 'max_length', 'max_letion': True, 'paddinngth': 'max_length'} not recognized.\n",
      "Keyword arguments {'truncag': 'max_length', 'max_letion': True, 'paddinngth': 'max_length'} not recognized.\n",
      "Keyword arguments {'truncag': 'max_length', 'max_letion': True, 'paddinngth': 'max_length'} not recognized.\n",
      "Keyword arguments {'truncag': 'max_length', 'max_letion': True, 'paddinngth': 'max_length'} not recognized.\n",
      "Keyword arguments {'truncag': 'max_length', 'max_letion': True, 'paddinngth': 'max_length'} not recognized.\n",
      "Keyword arguments {'truncag': 'max_length', 'max_letion': True, 'paddinngth': 'max_length'} not recognized.\n",
      "Keyword arguments {'truncag': 'max_length', 'max_letion': True, 'paddinngth': 'max_length'} not recognized.\n",
      "Keyword arguments {'truncag': 'max_length', 'max_letion': True, 'paddinngth': 'max_length'} not recognized.\n",
      "Keyword arguments {'truncag': 'max_length', 'max_letion': True, 'paddinngth': 'max_length'} not recognized.\n",
      "Keyword arguments {'truncag': 'max_length', 'max_letion': True, 'paddinngth': 'max_length'} not recognized.\n",
      "Keyword arguments {'truncag': 'max_length', 'max_letion': True, 'paddinngth': 'max_length'} not recognized.\n",
      "Keyword arguments {'truncag': 'max_length', 'max_letion': True, 'paddinngth': 'max_length'} not recognized.\n",
      "Keyword arguments {'truncag': 'max_length', 'max_letion': True, 'paddinngth': 'max_length'} not recognized.\n",
      "Keyword arguments {'truncag': 'max_length', 'max_letion': True, 'paddinngth': 'max_length'} not recognized.\n",
      "Keyword arguments {'truncag': 'max_length', 'max_letion': True, 'paddinngth': 'max_length'} not recognized.\n",
      "Keyword arguments {'truncag': 'max_length', 'max_letion': True, 'paddinngth': 'max_length'} not recognized.\n",
      "Keyword arguments {'truncag': 'max_length', 'max_letion': True, 'paddinngth': 'max_length'} not recognized.\n",
      "Keyword arguments {'truncag': 'max_length', 'max_letion': True, 'paddinngth': 'max_length'} not recognized.\n",
      "Keyword arguments {'truncag': 'max_length', 'max_letion': True, 'paddinngth': 'max_length'} not recognized.\n",
      "Keyword arguments {'truncag': 'max_length', 'max_letion': True, 'paddinngth': 'max_length'} not recognized.\n",
      "Keyword arguments {'truncag': 'max_length', 'max_letion': True, 'paddinngth': 'max_length'} not recognized.\n",
      "Keyword arguments {'truncag': 'max_length', 'max_letion': True, 'paddinngth': 'max_length'} not recognized.\n",
      "Keyword arguments {'truncag': 'max_length', 'max_letion': True, 'paddinngth': 'max_length'} not recognized.\n",
      "Keyword arguments {'truncag': 'max_length', 'max_letion': True, 'paddinngth': 'max_length'} not recognized.\n",
      "Keyword arguments {'truncag': 'max_length', 'max_letion': True, 'paddinngth': 'max_length'} not recognized.\n",
      "Keyword arguments {'truncag': 'max_length', 'max_letion': True, 'paddinngth': 'max_length'} not recognized.\n",
      "Keyword arguments {'truncag': 'max_length', 'max_letion': True, 'paddinngth': 'max_length'} not recognized.\n",
      "Keyword arguments {'truncag': 'max_length', 'max_letion': True, 'paddinngth': 'max_length'} not recognized.\n",
      "Keyword arguments {'truncag': 'max_length', 'max_letion': True, 'paddinngth': 'max_length'} not recognized.\n",
      "Keyword arguments {'truncag': 'max_length', 'max_letion': True, 'paddinngth': 'max_length'} not recognized.\n",
      "Keyword arguments {'truncag': 'max_length', 'max_letion': True, 'paddinngth': 'max_length'} not recognized.\n",
      "Keyword arguments {'truncag': 'max_length', 'max_letion': True, 'paddinngth': 'max_length'} not recognized.\n",
      "Keyword arguments {'truncag': 'max_length', 'max_letion': True, 'paddinngth': 'max_length'} not recognized.\n",
      "Keyword arguments {'truncag': 'max_length', 'max_letion': True, 'paddinngth': 'max_length'} not recognized.\n",
      "Keyword arguments {'truncag': 'max_length', 'max_letion': True, 'paddinngth': 'max_length'} not recognized.\n",
      "Keyword arguments {'truncag': 'max_length', 'max_letion': True, 'paddinngth': 'max_length'} not recognized.\n",
      "Keyword arguments {'truncag': 'max_length', 'max_letion': True, 'paddinngth': 'max_length'} not recognized.\n",
      "Keyword arguments {'truncag': 'max_length', 'max_letion': True, 'paddinngth': 'max_length'} not recognized.\n",
      "Keyword arguments {'truncag': 'max_length', 'max_letion': True, 'paddinngth': 'max_length'} not recognized.\n",
      "Keyword arguments {'truncag': 'max_length', 'max_letion': True, 'paddinngth': 'max_length'} not recognized.\n",
      "Keyword arguments {'truncag': 'max_length', 'max_letion': True, 'paddinngth': 'max_length'} not recognized.\n",
      "Keyword arguments {'truncag': 'max_length', 'max_letion': True, 'paddinngth': 'max_length'} not recognized.\n",
      "Keyword arguments {'truncag': 'max_length', 'max_letion': True, 'paddinngth': 'max_length'} not recognized.\n",
      "Keyword arguments {'truncag': 'max_length', 'max_letion': True, 'paddinngth': 'max_length'} not recognized.\n",
      "Keyword arguments {'truncag': 'max_length', 'max_letion': True, 'paddinngth': 'max_length'} not recognized.\n",
      "Keyword arguments {'truncag': 'max_length', 'max_letion': True, 'paddinngth': 'max_length'} not recognized.\n",
      "Keyword arguments {'truncag': 'max_length', 'max_letion': True, 'paddinngth': 'max_length'} not recognized.\n",
      "Keyword arguments {'truncag': 'max_length', 'max_letion': True, 'paddinngth': 'max_length'} not recognized.\n",
      "Keyword arguments {'truncag': 'max_length', 'max_letion': True, 'paddinngth': 'max_length'} not recognized.\n",
      "Keyword arguments {'truncag': 'max_length', 'max_letion': True, 'paddinngth': 'max_length'} not recognized.\n",
      "Keyword arguments {'truncag': 'max_length', 'max_letion': True, 'paddinngth': 'max_length'} not recognized.\n",
      "Keyword arguments {'truncag': 'max_length', 'max_letion': True, 'paddinngth': 'max_length'} not recognized.\n",
      "Keyword arguments {'truncag': 'max_length', 'max_letion': True, 'paddinngth': 'max_length'} not recognized.\n",
      "Keyword arguments {'truncag': 'max_length', 'max_letion': True, 'paddinngth': 'max_length'} not recognized.\n",
      "Keyword arguments {'truncag': 'max_length', 'max_letion': True, 'paddinngth': 'max_length'} not recognized.\n",
      "Keyword arguments {'truncag': 'max_length', 'max_letion': True, 'paddinngth': 'max_length'} not recognized.\n",
      "Keyword arguments {'truncag': 'max_length', 'max_letion': True, 'paddinngth': 'max_length'} not recognized.\n",
      "Keyword arguments {'truncag': 'max_length', 'max_letion': True, 'paddinngth': 'max_length'} not recognized.\n",
      "Keyword arguments {'truncag': 'max_length', 'max_letion': True, 'paddinngth': 'max_length'} not recognized.\n",
      "Keyword arguments {'truncag': 'max_length', 'max_letion': True, 'paddinngth': 'max_length'} not recognized.\n",
      "Keyword arguments {'truncag': 'max_length', 'max_letion': True, 'paddinngth': 'max_length'} not recognized.\n",
      "Keyword arguments {'truncag': 'max_length', 'max_letion': True, 'paddinngth': 'max_length'} not recognized.\n",
      "Keyword arguments {'truncag': 'max_length', 'max_letion': True, 'paddinngth': 'max_length'} not recognized.\n",
      "Keyword arguments {'truncag': 'max_length', 'max_letion': True, 'paddinngth': 'max_length'} not recognized.\n",
      "Keyword arguments {'truncag': 'max_length', 'max_letion': True, 'paddinngth': 'max_length'} not recognized.\n",
      "Keyword arguments {'truncag': 'max_length', 'max_letion': True, 'paddinngth': 'max_length'} not recognized.\n",
      "Keyword arguments {'truncag': 'max_length', 'max_letion': True, 'paddinngth': 'max_length'} not recognized.\n",
      "Keyword arguments {'truncag': 'max_length', 'max_letion': True, 'paddinngth': 'max_length'} not recognized.\n",
      "Keyword arguments {'truncag': 'max_length', 'max_letion': True, 'paddinngth': 'max_length'} not recognized.\n",
      "Keyword arguments {'truncag': 'max_length', 'max_letion': True, 'paddinngth': 'max_length'} not recognized.\n",
      "Keyword arguments {'truncag': 'max_length', 'max_letion': True, 'paddinngth': 'max_length'} not recognized.\n",
      "Keyword arguments {'truncag': 'max_length', 'max_letion': True, 'paddinngth': 'max_length'} not recognized.\n",
      "Keyword arguments {'truncag': 'max_length', 'max_letion': True, 'paddinngth': 'max_length'} not recognized.\n",
      "Keyword arguments {'truncag': 'max_length', 'max_letion': True, 'paddinngth': 'max_length'} not recognized.\n",
      "Keyword arguments {'truncag': 'max_length', 'max_letion': True, 'paddinngth': 'max_length'} not recognized.\n",
      "Keyword arguments {'truncag': 'max_length', 'max_letion': True, 'paddinngth': 'max_length'} not recognized.\n",
      "Keyword arguments {'truncag': 'max_length', 'max_letion': True, 'paddinngth': 'max_length'} not recognized.\n",
      "Keyword arguments {'truncag': 'max_length', 'max_letion': True, 'paddinngth': 'max_length'} not recognized.\n",
      "Keyword arguments {'truncag': 'max_length', 'max_letion': True, 'paddinngth': 'max_length'} not recognized.\n",
      "Keyword arguments {'truncag': 'max_length', 'max_letion': True, 'paddinngth': 'max_length'} not recognized.\n",
      "Keyword arguments {'truncag': 'max_length', 'max_letion': True, 'paddinngth': 'max_length'} not recognized.\n",
      "Keyword arguments {'truncag': 'max_length', 'max_letion': True, 'paddinngth': 'max_length'} not recognized.\n",
      "Keyword arguments {'truncag': 'max_length', 'max_letion': True, 'paddinngth': 'max_length'} not recognized.\n",
      "Keyword arguments {'truncag': 'max_length', 'max_letion': True, 'paddinngth': 'max_length'} not recognized.\n",
      "Keyword arguments {'truncag': 'max_length', 'max_letion': True, 'paddinngth': 'max_length'} not recognized.\n",
      "Keyword arguments {'truncag': 'max_length', 'max_letion': True, 'paddinngth': 'max_length'} not recognized.\n",
      "Keyword arguments {'truncag': 'max_length', 'max_letion': True, 'paddinngth': 'max_length'} not recognized.\n",
      "Keyword arguments {'truncag': 'max_length', 'max_letion': True, 'paddinngth': 'max_length'} not recognized.\n",
      "Keyword arguments {'truncag': 'max_length', 'max_letion': True, 'paddinngth': 'max_length'} not recognized.\n",
      "Keyword arguments {'truncag': 'max_length', 'max_letion': True, 'paddinngth': 'max_length'} not recognized.\n",
      "Keyword arguments {'truncag': 'max_length', 'max_letion': True, 'paddinngth': 'max_length'} not recognized.\n",
      "Keyword arguments {'truncag': 'max_length', 'max_letion': True, 'paddinngth': 'max_length'} not recognized.\n",
      "Keyword arguments {'truncag': 'max_length', 'max_letion': True, 'paddinngth': 'max_length'} not recognized.\n",
      "Keyword arguments {'truncag': 'max_length', 'max_letion': True, 'paddinngth': 'max_length'} not recognized.\n",
      "Keyword arguments {'truncag': 'max_length', 'max_letion': True, 'paddinngth': 'max_length'} not recognized.\n",
      "Keyword arguments {'truncag': 'max_length', 'max_letion': True, 'paddinngth': 'max_length'} not recognized.\n",
      "Keyword arguments {'truncag': 'max_length', 'max_letion': True, 'paddinngth': 'max_length'} not recognized.\n",
      "Keyword arguments {'truncag': 'max_length', 'max_letion': True, 'paddinngth': 'max_length'} not recognized.\n",
      "Keyword arguments {'truncag': 'max_length', 'max_letion': True, 'paddinngth': 'max_length'} not recognized.\n",
      "Keyword arguments {'truncag': 'max_length', 'max_letion': True, 'paddinngth': 'max_length'} not recognized.\n",
      "Keyword arguments {'truncag': 'max_length', 'max_letion': True, 'paddinngth': 'max_length'} not recognized.\n",
      "Keyword arguments {'truncag': 'max_length', 'max_letion': True, 'paddinngth': 'max_length'} not recognized.\n",
      "Keyword arguments {'truncag': 'max_length', 'max_letion': True, 'paddinngth': 'max_length'} not recognized.\n",
      "Keyword arguments {'truncag': 'max_length', 'max_letion': True, 'paddinngth': 'max_length'} not recognized.\n",
      "Keyword arguments {'truncag': 'max_length', 'max_letion': True, 'paddinngth': 'max_length'} not recognized.\n",
      "Keyword arguments {'truncag': 'max_length', 'max_letion': True, 'paddinngth': 'max_length'} not recognized.\n",
      "Keyword arguments {'truncag': 'max_length', 'max_letion': True, 'paddinngth': 'max_length'} not recognized.\n",
      "Keyword arguments {'truncag': 'max_length', 'max_letion': True, 'paddinngth': 'max_length'} not recognized.\n",
      "Keyword arguments {'truncag': 'max_length', 'max_letion': True, 'paddinngth': 'max_length'} not recognized.\n",
      "Keyword arguments {'truncag': 'max_length', 'max_letion': True, 'paddinngth': 'max_length'} not recognized.\n",
      "Keyword arguments {'truncag': 'max_length', 'max_letion': True, 'paddinngth': 'max_length'} not recognized.\n",
      "Keyword arguments {'truncag': 'max_length', 'max_letion': True, 'paddinngth': 'max_length'} not recognized.\n",
      "Keyword arguments {'truncag': 'max_length', 'max_letion': True, 'paddinngth': 'max_length'} not recognized.\n",
      "Keyword arguments {'truncag': 'max_length', 'max_letion': True, 'paddinngth': 'max_length'} not recognized.\n",
      "Keyword arguments {'truncag': 'max_length', 'max_letion': True, 'paddinngth': 'max_length'} not recognized.\n",
      "Keyword arguments {'truncag': 'max_length', 'max_letion': True, 'paddinngth': 'max_length'} not recognized.\n",
      "Keyword arguments {'truncag': 'max_length', 'max_letion': True, 'paddinngth': 'max_length'} not recognized.\n",
      "Keyword arguments {'truncag': 'max_length', 'max_letion': True, 'paddinngth': 'max_length'} not recognized.\n",
      "Keyword arguments {'truncag': 'max_length', 'max_letion': True, 'paddinngth': 'max_length'} not recognized.\n",
      "Keyword arguments {'truncag': 'max_length', 'max_letion': True, 'paddinngth': 'max_length'} not recognized.\n",
      "Keyword arguments {'truncag': 'max_length', 'max_letion': True, 'paddinngth': 'max_length'} not recognized.\n",
      "Keyword arguments {'truncag': 'max_length', 'max_letion': True, 'paddinngth': 'max_length'} not recognized.\n",
      "Keyword arguments {'truncag': 'max_length', 'max_letion': True, 'paddinngth': 'max_length'} not recognized.\n",
      "Keyword arguments {'truncag': 'max_length', 'max_letion': True, 'paddinngth': 'max_length'} not recognized.\n",
      "Keyword arguments {'truncag': 'max_length', 'max_letion': True, 'paddinngth': 'max_length'} not recognized.\n",
      "Keyword arguments {'truncag': 'max_length', 'max_letion': True, 'paddinngth': 'max_length'} not recognized.\n",
      "Keyword arguments {'truncag': 'max_length', 'max_letion': True, 'paddinngth': 'max_length'} not recognized.\n",
      "Keyword arguments {'truncag': 'max_length', 'max_letion': True, 'paddinngth': 'max_length'} not recognized.\n",
      "Keyword arguments {'truncag': 'max_length', 'max_letion': True, 'paddinngth': 'max_length'} not recognized.\n",
      "Keyword arguments {'truncag': 'max_length', 'max_letion': True, 'paddinngth': 'max_length'} not recognized.\n",
      "Keyword arguments {'truncag': 'max_length', 'max_letion': True, 'paddinngth': 'max_length'} not recognized.\n",
      "Keyword arguments {'truncag': 'max_length', 'max_letion': True, 'paddinngth': 'max_length'} not recognized.\n",
      "Keyword arguments {'truncag': 'max_length', 'max_letion': True, 'paddinngth': 'max_length'} not recognized.\n",
      "Keyword arguments {'truncag': 'max_length', 'max_letion': True, 'paddinngth': 'max_length'} not recognized.\n",
      "Keyword arguments {'truncag': 'max_length', 'max_letion': True, 'paddinngth': 'max_length'} not recognized.\n",
      "Keyword arguments {'truncag': 'max_length', 'max_letion': True, 'paddinngth': 'max_length'} not recognized.\n",
      "Keyword arguments {'truncag': 'max_length', 'max_letion': True, 'paddinngth': 'max_length'} not recognized.\n",
      "Keyword arguments {'truncag': 'max_length', 'max_letion': True, 'paddinngth': 'max_length'} not recognized.\n",
      "Keyword arguments {'truncag': 'max_length', 'max_letion': True, 'paddinngth': 'max_length'} not recognized.\n",
      "Keyword arguments {'truncag': 'max_length', 'max_letion': True, 'paddinngth': 'max_length'} not recognized.\n",
      "Keyword arguments {'truncag': 'max_length', 'max_letion': True, 'paddinngth': 'max_length'} not recognized.\n",
      "Keyword arguments {'truncag': 'max_length', 'max_letion': True, 'paddinngth': 'max_length'} not recognized.\n",
      "Keyword arguments {'truncag': 'max_length', 'max_letion': True, 'paddinngth': 'max_length'} not recognized.\n",
      "Keyword arguments {'truncag': 'max_length', 'max_letion': True, 'paddinngth': 'max_length'} not recognized.\n",
      "Keyword arguments {'truncag': 'max_length', 'max_letion': True, 'paddinngth': 'max_length'} not recognized.\n",
      "Keyword arguments {'truncag': 'max_length', 'max_letion': True, 'paddinngth': 'max_length'} not recognized.\n",
      "Keyword arguments {'truncag': 'max_length', 'max_letion': True, 'paddinngth': 'max_length'} not recognized.\n",
      "Keyword arguments {'truncag': 'max_length', 'max_letion': True, 'paddinngth': 'max_length'} not recognized.\n",
      "Keyword arguments {'truncag': 'max_length', 'max_letion': True, 'paddinngth': 'max_length'} not recognized.\n",
      "Keyword arguments {'truncag': 'max_length', 'max_letion': True, 'paddinngth': 'max_length'} not recognized.\n",
      "Keyword arguments {'truncag': 'max_length', 'max_letion': True, 'paddinngth': 'max_length'} not recognized.\n",
      "Keyword arguments {'truncag': 'max_length', 'max_letion': True, 'paddinngth': 'max_length'} not recognized.\n",
      "Keyword arguments {'truncag': 'max_length', 'max_letion': True, 'paddinngth': 'max_length'} not recognized.\n",
      "Keyword arguments {'truncag': 'max_length', 'max_letion': True, 'paddinngth': 'max_length'} not recognized.\n",
      "Keyword arguments {'truncag': 'max_length', 'max_letion': True, 'paddinngth': 'max_length'} not recognized.\n",
      "Keyword arguments {'truncag': 'max_length', 'max_letion': True, 'paddinngth': 'max_length'} not recognized.\n",
      "Keyword arguments {'truncag': 'max_length', 'max_letion': True, 'paddinngth': 'max_length'} not recognized.\n",
      "Keyword arguments {'truncag': 'max_length', 'max_letion': True, 'paddinngth': 'max_length'} not recognized.\n",
      "Keyword arguments {'truncag': 'max_length', 'max_letion': True, 'paddinngth': 'max_length'} not recognized.\n",
      "Keyword arguments {'truncag': 'max_length', 'max_letion': True, 'paddinngth': 'max_length'} not recognized.\n",
      "Keyword arguments {'truncag': 'max_length', 'max_letion': True, 'paddinngth': 'max_length'} not recognized.\n",
      "Keyword arguments {'truncag': 'max_length', 'max_letion': True, 'paddinngth': 'max_length'} not recognized.\n",
      "Keyword arguments {'truncag': 'max_length', 'max_letion': True, 'paddinngth': 'max_length'} not recognized.\n",
      "Keyword arguments {'truncag': 'max_length', 'max_letion': True, 'paddinngth': 'max_length'} not recognized.\n",
      "Keyword arguments {'truncag': 'max_length', 'max_letion': True, 'paddinngth': 'max_length'} not recognized.\n",
      "Keyword arguments {'truncag': 'max_length', 'max_letion': True, 'paddinngth': 'max_length'} not recognized.\n",
      "Keyword arguments {'truncag': 'max_length', 'max_letion': True, 'paddinngth': 'max_length'} not recognized.\n",
      "Keyword arguments {'truncag': 'max_length', 'max_letion': True, 'paddinngth': 'max_length'} not recognized.\n",
      "Keyword arguments {'truncag': 'max_length', 'max_letion': True, 'paddinngth': 'max_length'} not recognized.\n",
      "Keyword arguments {'truncag': 'max_length', 'max_letion': True, 'paddinngth': 'max_length'} not recognized.\n",
      "Keyword arguments {'truncag': 'max_length', 'max_letion': True, 'paddinngth': 'max_length'} not recognized.\n",
      "Keyword arguments {'truncag': 'max_length', 'max_letion': True, 'paddinngth': 'max_length'} not recognized.\n",
      "Keyword arguments {'truncag': 'max_length', 'max_letion': True, 'paddinngth': 'max_length'} not recognized.\n",
      "Keyword arguments {'truncag': 'max_length', 'max_letion': True, 'paddinngth': 'max_length'} not recognized.\n",
      "Keyword arguments {'truncag': 'max_length', 'max_letion': True, 'paddinngth': 'max_length'} not recognized.\n",
      "Keyword arguments {'truncag': 'max_length', 'max_letion': True, 'paddinngth': 'max_length'} not recognized.\n",
      "Keyword arguments {'truncag': 'max_length', 'max_letion': True, 'paddinngth': 'max_length'} not recognized.\n",
      "Keyword arguments {'truncag': 'max_length', 'max_letion': True, 'paddinngth': 'max_length'} not recognized.\n",
      "Keyword arguments {'truncag': 'max_length', 'max_letion': True, 'paddinngth': 'max_length'} not recognized.\n",
      "Keyword arguments {'truncag': 'max_length', 'max_letion': True, 'paddinngth': 'max_length'} not recognized.\n",
      "Keyword arguments {'truncag': 'max_length', 'max_letion': True, 'paddinngth': 'max_length'} not recognized.\n",
      "Keyword arguments {'truncag': 'max_length', 'max_letion': True, 'paddinngth': 'max_length'} not recognized.\n",
      "Keyword arguments {'truncag': 'max_length', 'max_letion': True, 'paddinngth': 'max_length'} not recognized.\n",
      "Keyword arguments {'truncag': 'max_length', 'max_letion': True, 'paddinngth': 'max_length'} not recognized.\n",
      "Keyword arguments {'truncag': 'max_length', 'max_letion': True, 'paddinngth': 'max_length'} not recognized.\n",
      "Keyword arguments {'truncag': 'max_length', 'max_letion': True, 'paddinngth': 'max_length'} not recognized.\n",
      "Keyword arguments {'truncag': 'max_length', 'max_letion': True, 'paddinngth': 'max_length'} not recognized.\n",
      "Keyword arguments {'truncag': 'max_length', 'max_letion': True, 'paddinngth': 'max_length'} not recognized.\n",
      "Keyword arguments {'truncag': 'max_length', 'max_letion': True, 'paddinngth': 'max_length'} not recognized.\n",
      "Keyword arguments {'truncag': 'max_length', 'max_letion': True, 'paddinngth': 'max_length'} not recognized.\n",
      "Keyword arguments {'truncag': 'max_length', 'max_letion': True, 'paddinngth': 'max_length'} not recognized.\n",
      "Keyword arguments {'truncag': 'max_length', 'max_letion': True, 'paddinngth': 'max_length'} not recognized.\n",
      "Keyword arguments {'truncag': 'max_length', 'max_letion': True, 'paddinngth': 'max_length'} not recognized.\n",
      "Keyword arguments {'truncag': 'max_length', 'max_letion': True, 'paddinngth': 'max_length'} not recognized.\n",
      "Keyword arguments {'truncag': 'max_length', 'max_letion': True, 'paddinngth': 'max_length'} not recognized.\n",
      "Keyword arguments {'truncag': 'max_length', 'max_letion': True, 'paddinngth': 'max_length'} not recognized.\n",
      "Keyword arguments {'truncag': 'max_length', 'max_letion': True, 'paddinngth': 'max_length'} not recognized.\n",
      "Keyword arguments {'truncag': 'max_length', 'max_letion': True, 'paddinngth': 'max_length'} not recognized.\n",
      "Keyword arguments {'truncag': 'max_length', 'max_letion': True, 'paddinngth': 'max_length'} not recognized.\n",
      "Keyword arguments {'truncag': 'max_length', 'max_letion': True, 'paddinngth': 'max_length'} not recognized.\n",
      "Keyword arguments {'truncag': 'max_length', 'max_letion': True, 'paddinngth': 'max_length'} not recognized.\n",
      "Keyword arguments {'truncag': 'max_length', 'max_letion': True, 'paddinngth': 'max_length'} not recognized.\n",
      "Keyword arguments {'truncag': 'max_length', 'max_letion': True, 'paddinngth': 'max_length'} not recognized.\n",
      "Keyword arguments {'truncag': 'max_length', 'max_letion': True, 'paddinngth': 'max_length'} not recognized.\n",
      "Keyword arguments {'truncag': 'max_length', 'max_letion': True, 'paddinngth': 'max_length'} not recognized.\n",
      "Keyword arguments {'truncag': 'max_length', 'max_letion': True, 'paddinngth': 'max_length'} not recognized.\n",
      "Keyword arguments {'truncag': 'max_length', 'max_letion': True, 'paddinngth': 'max_length'} not recognized.\n",
      "Keyword arguments {'truncag': 'max_length', 'max_letion': True, 'paddinngth': 'max_length'} not recognized.\n",
      "Keyword arguments {'truncag': 'max_length', 'max_letion': True, 'paddinngth': 'max_length'} not recognized.\n",
      "Keyword arguments {'truncag': 'max_length', 'max_letion': True, 'paddinngth': 'max_length'} not recognized.\n",
      "Keyword arguments {'truncag': 'max_length', 'max_letion': True, 'paddinngth': 'max_length'} not recognized.\n",
      "Keyword arguments {'truncag': 'max_length', 'max_letion': True, 'paddinngth': 'max_length'} not recognized.\n",
      "Keyword arguments {'truncag': 'max_length', 'max_letion': True, 'paddinngth': 'max_length'} not recognized.\n",
      "Keyword arguments {'truncag': 'max_length', 'max_letion': True, 'paddinngth': 'max_length'} not recognized.\n",
      "Keyword arguments {'truncag': 'max_length', 'max_letion': True, 'paddinngth': 'max_length'} not recognized.\n",
      "Keyword arguments {'truncag': 'max_length', 'max_letion': True, 'paddinngth': 'max_length'} not recognized.\n",
      "Keyword arguments {'truncag': 'max_length', 'max_letion': True, 'paddinngth': 'max_length'} not recognized.\n",
      "Keyword arguments {'truncag': 'max_length', 'max_letion': True, 'paddinngth': 'max_length'} not recognized.\n",
      "Keyword arguments {'truncag': 'max_length', 'max_letion': True, 'paddinngth': 'max_length'} not recognized.\n",
      "Keyword arguments {'truncag': 'max_length', 'max_letion': True, 'paddinngth': 'max_length'} not recognized.\n",
      "Keyword arguments {'truncag': 'max_length', 'max_letion': True, 'paddinngth': 'max_length'} not recognized.\n",
      "Keyword arguments {'truncag': 'max_length', 'max_letion': True, 'paddinngth': 'max_length'} not recognized.\n",
      "Keyword arguments {'truncag': 'max_length', 'max_letion': True, 'paddinngth': 'max_length'} not recognized.\n",
      "Keyword arguments {'truncag': 'max_length', 'max_letion': True, 'paddinngth': 'max_length'} not recognized.\n",
      "Keyword arguments {'truncag': 'max_length', 'max_letion': True, 'paddinngth': 'max_length'} not recognized.\n",
      "Keyword arguments {'truncag': 'max_length', 'max_letion': True, 'paddinngth': 'max_length'} not recognized.\n",
      "Keyword arguments {'truncag': 'max_length', 'max_letion': True, 'paddinngth': 'max_length'} not recognized.\n",
      "Keyword arguments {'truncag': 'max_length', 'max_letion': True, 'paddinngth': 'max_length'} not recognized.\n",
      "Keyword arguments {'truncag': 'max_length', 'max_letion': True, 'paddinngth': 'max_length'} not recognized.\n",
      "Keyword arguments {'truncag': 'max_length', 'max_letion': True, 'paddinngth': 'max_length'} not recognized.\n",
      "Keyword arguments {'truncag': 'max_length', 'max_letion': True, 'paddinngth': 'max_length'} not recognized.\n",
      "Keyword arguments {'truncag': 'max_length', 'max_letion': True, 'paddinngth': 'max_length'} not recognized.\n",
      "Keyword arguments {'truncag': 'max_length', 'max_letion': True, 'paddinngth': 'max_length'} not recognized.\n",
      "Keyword arguments {'truncag': 'max_length', 'max_letion': True, 'paddinngth': 'max_length'} not recognized.\n",
      "Keyword arguments {'truncag': 'max_length', 'max_letion': True, 'paddinngth': 'max_length'} not recognized.\n",
      "Keyword arguments {'truncag': 'max_length', 'max_letion': True, 'paddinngth': 'max_length'} not recognized.\n",
      "Keyword arguments {'truncag': 'max_length', 'max_letion': True, 'paddinngth': 'max_length'} not recognized.\n",
      "Keyword arguments {'truncag': 'max_length', 'max_letion': True, 'paddinngth': 'max_length'} not recognized.\n",
      "Keyword arguments {'truncag': 'max_length', 'max_letion': True, 'paddinngth': 'max_length'} not recognized.\n",
      "Keyword arguments {'truncag': 'max_length', 'max_letion': True, 'paddinngth': 'max_length'} not recognized.\n",
      "Keyword arguments {'truncag': 'max_length', 'max_letion': True, 'paddinngth': 'max_length'} not recognized.\n",
      "Keyword arguments {'truncag': 'max_length', 'max_letion': True, 'paddinngth': 'max_length'} not recognized.\n",
      "Keyword arguments {'truncag': 'max_length', 'max_letion': True, 'paddinngth': 'max_length'} not recognized.\n",
      "Keyword arguments {'truncag': 'max_length', 'max_letion': True, 'paddinngth': 'max_length'} not recognized.\n",
      "Keyword arguments {'truncag': 'max_length', 'max_letion': True, 'paddinngth': 'max_length'} not recognized.\n",
      "Keyword arguments {'truncag': 'max_length', 'max_letion': True, 'paddinngth': 'max_length'} not recognized.\n",
      "Keyword arguments {'truncag': 'max_length', 'max_letion': True, 'paddinngth': 'max_length'} not recognized.\n",
      "Keyword arguments {'truncag': 'max_length', 'max_letion': True, 'paddinngth': 'max_length'} not recognized.\n",
      "Keyword arguments {'truncag': 'max_length', 'max_letion': True, 'paddinngth': 'max_length'} not recognized.\n",
      "Keyword arguments {'truncag': 'max_length', 'max_letion': True, 'paddinngth': 'max_length'} not recognized.\n",
      "Keyword arguments {'truncag': 'max_length', 'max_letion': True, 'paddinngth': 'max_length'} not recognized.\n",
      "Keyword arguments {'truncag': 'max_length', 'max_letion': True, 'paddinngth': 'max_length'} not recognized.\n",
      "Keyword arguments {'truncag': 'max_length', 'max_letion': True, 'paddinngth': 'max_length'} not recognized.\n",
      "Keyword arguments {'truncag': 'max_length', 'max_letion': True, 'paddinngth': 'max_length'} not recognized.\n",
      "Keyword arguments {'truncag': 'max_length', 'max_letion': True, 'paddinngth': 'max_length'} not recognized.\n",
      "Keyword arguments {'truncag': 'max_length', 'max_letion': True, 'paddinngth': 'max_length'} not recognized.\n",
      "Keyword arguments {'truncag': 'max_length', 'max_letion': True, 'paddinngth': 'max_length'} not recognized.\n",
      "Keyword arguments {'truncag': 'max_length', 'max_letion': True, 'paddinngth': 'max_length'} not recognized.\n",
      "Keyword arguments {'truncag': 'max_length', 'max_letion': True, 'paddinngth': 'max_length'} not recognized.\n",
      "Keyword arguments {'truncag': 'max_length', 'max_letion': True, 'paddinngth': 'max_length'} not recognized.\n",
      "Keyword arguments {'truncag': 'max_length', 'max_letion': True, 'paddinngth': 'max_length'} not recognized.\n",
      "Keyword arguments {'truncag': 'max_length', 'max_letion': True, 'paddinngth': 'max_length'} not recognized.\n",
      "Keyword arguments {'truncag': 'max_length', 'max_letion': True, 'paddinngth': 'max_length'} not recognized.\n",
      "Keyword arguments {'truncag': 'max_length', 'max_letion': True, 'paddinngth': 'max_length'} not recognized.\n",
      "Keyword arguments {'truncag': 'max_length', 'max_letion': True, 'paddinngth': 'max_length'} not recognized.\n",
      "Keyword arguments {'truncag': 'max_length', 'max_letion': True, 'paddinngth': 'max_length'} not recognized.\n",
      "Keyword arguments {'truncag': 'max_length', 'max_letion': True, 'paddinngth': 'max_length'} not recognized.\n",
      "Keyword arguments {'truncag': 'max_length', 'max_letion': True, 'paddinngth': 'max_length'} not recognized.\n",
      "Keyword arguments {'truncag': 'max_length', 'max_letion': True, 'paddinngth': 'max_length'} not recognized.\n",
      "Keyword arguments {'truncag': 'max_length', 'max_letion': True, 'paddinngth': 'max_length'} not recognized.\n",
      "Keyword arguments {'truncag': 'max_length', 'max_letion': True, 'paddinngth': 'max_length'} not recognized.\n",
      "Keyword arguments {'truncag': 'max_length', 'max_letion': True, 'paddinngth': 'max_length'} not recognized.\n",
      "Keyword arguments {'truncag': 'max_length', 'max_letion': True, 'paddinngth': 'max_length'} not recognized.\n",
      "Keyword arguments {'truncag': 'max_length', 'max_letion': True, 'paddinngth': 'max_length'} not recognized.\n",
      "Keyword arguments {'truncag': 'max_length', 'max_letion': True, 'paddinngth': 'max_length'} not recognized.\n",
      "Keyword arguments {'truncag': 'max_length', 'max_letion': True, 'paddinngth': 'max_length'} not recognized.\n",
      "Keyword arguments {'truncag': 'max_length', 'max_letion': True, 'paddinngth': 'max_length'} not recognized.\n",
      "Keyword arguments {'truncag': 'max_length', 'max_letion': True, 'paddinngth': 'max_length'} not recognized.\n",
      "Keyword arguments {'truncag': 'max_length', 'max_letion': True, 'paddinngth': 'max_length'} not recognized.\n",
      "Keyword arguments {'truncag': 'max_length', 'max_letion': True, 'paddinngth': 'max_length'} not recognized.\n",
      "Keyword arguments {'truncag': 'max_length', 'max_letion': True, 'paddinngth': 'max_length'} not recognized.\n",
      "Keyword arguments {'truncag': 'max_length', 'max_letion': True, 'paddinngth': 'max_length'} not recognized.\n",
      "Keyword arguments {'truncag': 'max_length', 'max_letion': True, 'paddinngth': 'max_length'} not recognized.\n",
      "Keyword arguments {'truncag': 'max_length', 'max_letion': True, 'paddinngth': 'max_length'} not recognized.\n"
     ]
    }
   ],
   "source": [
    "progress_bar = tqdm(range(len(df_news)))\n",
    "for i in range(len(df_news)):\n",
    "    out=pred(df_news.ocr.iloc[i])\n",
    "    df_news.label.iloc[i]=out.numpy()[0]\n",
    "    progress_bar.update(1)"
   ],
   "metadata": {
    "collapsed": false,
    "pycharm": {
     "name": "#%%\n"
    }
   }
  },
  {
   "cell_type": "code",
   "execution_count": 55,
   "outputs": [
    {
     "data": {
      "text/plain": "1    288\n2     13\n0      4\nName: label, dtype: int64"
     },
     "execution_count": 55,
     "metadata": {},
     "output_type": "execute_result"
    }
   ],
   "source": [
    "df_news.label.value_counts()\n"
   ],
   "metadata": {
    "collapsed": false,
    "pycharm": {
     "name": "#%%\n"
    }
   }
  },
  {
   "cell_type": "code",
   "execution_count": 3,
   "outputs": [],
   "source": [
    "import matplotlib.pyplot as plt\n",
    "import numpy as np\n",
    "plt.rcParams['font.sans-serif'] = ['SimHei'] #用来正常显示中文标签\n",
    "plt.rcParams['axes.unicode_minus'] = False #用来正常显示负号"
   ],
   "metadata": {
    "collapsed": false,
    "pycharm": {
     "name": "#%%\n"
    }
   }
  },
  {
   "cell_type": "code",
   "execution_count": 5,
   "outputs": [
    {
     "name": "stderr",
     "output_type": "stream",
     "text": [
      "C:\\Users\\86136\\Anaconda3\\envs\\DjangoPath\\lib\\site-packages\\ipykernel_launcher.py:8: RuntimeWarning: divide by zero encountered in log\n",
      "  \n",
      "C:\\Users\\86136\\Anaconda3\\envs\\DjangoPath\\lib\\site-packages\\ipykernel_launcher.py:8: RuntimeWarning: divide by zero encountered in log\n",
      "  \n",
      "C:\\Users\\86136\\Anaconda3\\envs\\DjangoPath\\lib\\site-packages\\ipykernel_launcher.py:8: RuntimeWarning: divide by zero encountered in log\n",
      "  \n",
      "C:\\Users\\86136\\Anaconda3\\envs\\DjangoPath\\lib\\site-packages\\ipykernel_launcher.py:8: RuntimeWarning: divide by zero encountered in log\n",
      "  \n",
      "C:\\Users\\86136\\Anaconda3\\envs\\DjangoPath\\lib\\site-packages\\ipykernel_launcher.py:8: RuntimeWarning: divide by zero encountered in log\n",
      "  \n",
      "C:\\Users\\86136\\Anaconda3\\envs\\DjangoPath\\lib\\site-packages\\matplotlib\\backends\\backend_agg.py:238: RuntimeWarning: Glyph 39044 missing from current font.\n",
      "  font.set_text(s, 0.0, flags=flags)\n",
      "C:\\Users\\86136\\Anaconda3\\envs\\DjangoPath\\lib\\site-packages\\matplotlib\\backends\\backend_agg.py:238: RuntimeWarning: Glyph 27979 missing from current font.\n",
      "  font.set_text(s, 0.0, flags=flags)\n",
      "C:\\Users\\86136\\Anaconda3\\envs\\DjangoPath\\lib\\site-packages\\matplotlib\\backends\\backend_agg.py:238: RuntimeWarning: Glyph 27010 missing from current font.\n",
      "  font.set_text(s, 0.0, flags=flags)\n",
      "C:\\Users\\86136\\Anaconda3\\envs\\DjangoPath\\lib\\site-packages\\matplotlib\\backends\\backend_agg.py:238: RuntimeWarning: Glyph 29575 missing from current font.\n",
      "  font.set_text(s, 0.0, flags=flags)\n",
      "C:\\Users\\86136\\Anaconda3\\envs\\DjangoPath\\lib\\site-packages\\matplotlib\\backends\\backend_agg.py:201: RuntimeWarning: Glyph 39044 missing from current font.\n",
      "  font.set_text(s, 0, flags=flags)\n",
      "C:\\Users\\86136\\Anaconda3\\envs\\DjangoPath\\lib\\site-packages\\matplotlib\\backends\\backend_agg.py:201: RuntimeWarning: Glyph 27979 missing from current font.\n",
      "  font.set_text(s, 0, flags=flags)\n",
      "C:\\Users\\86136\\Anaconda3\\envs\\DjangoPath\\lib\\site-packages\\matplotlib\\backends\\backend_agg.py:201: RuntimeWarning: Glyph 27010 missing from current font.\n",
      "  font.set_text(s, 0, flags=flags)\n",
      "C:\\Users\\86136\\Anaconda3\\envs\\DjangoPath\\lib\\site-packages\\matplotlib\\backends\\backend_agg.py:201: RuntimeWarning: Glyph 29575 missing from current font.\n",
      "  font.set_text(s, 0, flags=flags)\n"
     ]
    },
    {
     "data": {
      "text/plain": "<Figure size 432x288 with 1 Axes>",
      "image/png": "[encoded data removed]"
     },
     "metadata": {
      "needs_background": "light"
     },
     "output_type": "display_data"
    }
   ],
   "source": [
    "x = np.arange(0, 1, 0.01)\n",
    "plt.rcParams['font.family'] = ['Droid Sans Fallback']# 用来正常显示中文标签\n",
    "plt.rcParams['axes.unicode_minus']=False # 用来正常显示负号\n",
    "plt.xlabel('预测概率')\n",
    "plt.ylabel('loss')\n",
    "plt.title(\"\")\n",
    "for i in [0,0.5,1,2,5]:\n",
    "    y = -(1-x)**i*np.log(x)\n",
    "    plt.plot(x, y)\n",
    "plt.show()\n"
   ],
   "metadata": {
    "collapsed": false,
    "pycharm": {
     "name": "#%%\n"
    }
   }
  }
 ],
 "metadata": {
  "kernelspec": {
   "display_name": "Python 3",
   "language": "python",
   "name": "python3"
  },
  "language_info": {
   "codemirror_mode": {
    "name": "ipython",
    "version": 2
   },
   "file_extension": ".py",
   "mimetype": "text/x-python",
   "name": "python",
   "nbconvert_exporter": "python",
   "pygments_lexer": "ipython2",
   "version": "2.7.6"
  }
 },
 "nbformat": 4,
 "nbformat_minor": 0
}